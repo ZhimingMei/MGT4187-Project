{
 "cells": [
  {
   "cell_type": "code",
   "execution_count": 10,
   "metadata": {},
   "outputs": [],
   "source": [
    "import time\n",
    "import pandas as pd\n",
    "import os\n",
    "\n",
    "from pytrends.request import TrendReq\n",
    "from datetime import datetime, timedelta"
   ]
  },
  {
   "cell_type": "code",
   "execution_count": 11,
   "metadata": {},
   "outputs": [],
   "source": [
    "# read data\n",
    "input_path = '/Users/ryan/Documents/GitHub/MGT4187-Project/data/final_data'\n",
    "\n",
    "os.chdir(input_path)\n",
    "data = pd.read_csv('filtered_data_w_ratings.csv')"
   ]
  },
  {
   "cell_type": "code",
   "execution_count": 13,
   "metadata": {},
   "outputs": [],
   "source": [
    "pytrends = TrendReq(hl='en-US', tz=360)"
   ]
  },
  {
   "cell_type": "code",
   "execution_count": 14,
   "metadata": {},
   "outputs": [],
   "source": [
    "def fetch_trend(movie_title, release_date):\n",
    "    # calculate the start date\n",
    "    start_date = release_date - timedelta(days=365)\n",
    "\n",
    "    # change the datetime format\n",
    "    start_date_str = start_date.strftime('%Y-%m-%d')\n",
    "    end_date_str = release_date.strftime('%Y-%m-%d')\n",
    "\n",
    "    # build the payload\n",
    "    pytrends.build_payload(kw_list=[movie_title], timeframe=f'{start_date_str} {end_date_str}')\n",
    "\n",
    "    # fetch the interest over time\n",
    "    trends = pytrends.interest_over_time()\n",
    "\n",
    "    # return the mean (we can change mean to other statistics)\n",
    "    return trends[movie_title].mean()"
   ]
  },
  {
   "cell_type": "code",
   "execution_count": 16,
   "metadata": {},
   "outputs": [],
   "source": [
    "data_sample = data.sample(5)\n",
    "\n",
    "for index, row in data_sample.iterrows():\n",
    "    # convert to datetime object\n",
    "    release_date = pd.to_datetime(row['release_date'])\n",
    "\n",
    "    # retrieve the data\n",
    "    trend_index = fetch_trend(row['primaryTitle'], release_date)\n",
    "\n",
    "    # store the data\n",
    "    data_sample.at[index, 'search_index'] = trend_index\n",
    "\n",
    "    # to avoid the error that reach the maximum retrieve matrix\n",
    "    time.sleep(20)"
   ]
  }
 ],
 "metadata": {
  "kernelspec": {
   "display_name": "venv",
   "language": "python",
   "name": "python3"
  },
  "language_info": {
   "codemirror_mode": {
    "name": "ipython",
    "version": 3
   },
   "file_extension": ".py",
   "mimetype": "text/x-python",
   "name": "python",
   "nbconvert_exporter": "python",
   "pygments_lexer": "ipython3",
   "version": "3.9.2"
  }
 },
 "nbformat": 4,
 "nbformat_minor": 2
}
