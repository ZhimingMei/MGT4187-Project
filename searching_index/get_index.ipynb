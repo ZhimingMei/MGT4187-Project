{
 "cells": [
  {
   "cell_type": "code",
   "execution_count": 1,
   "metadata": {},
   "outputs": [],
   "source": [
    "import time\n",
    "import pandas as pd\n",
    "import os\n",
    "\n",
    "from pytrends.request import TrendReq\n",
    "from datetime import datetime, timedelta"
   ]
  },
  {
   "cell_type": "code",
   "execution_count": 2,
   "metadata": {},
   "outputs": [],
   "source": [
    "# read data\n",
    "input_path = '/Users/ryan/Documents/GitHub/MGT4187-Project/data/final_data'\n",
    "\n",
    "os.chdir(input_path)\n",
    "data = pd.read_csv('filtered_data_w_ratings.csv')"
   ]
  },
  {
   "cell_type": "code",
   "execution_count": 3,
   "metadata": {},
   "outputs": [],
   "source": [
    "pytrends = TrendReq(hl='en-US', tz=360)"
   ]
  },
  {
   "cell_type": "code",
   "execution_count": 4,
   "metadata": {},
   "outputs": [],
   "source": [
    "def fetch_trend(movie_title, release_date):\n",
    "    # calculate the start date\n",
    "    start_date = release_date - timedelta(days=365)\n",
    "\n",
    "    # change the datetime format\n",
    "    start_date_str = start_date.strftime('%Y-%m-%d')\n",
    "    end_date_str = release_date.strftime('%Y-%m-%d')\n",
    "\n",
    "    # build the payload\n",
    "    pytrends.build_payload(kw_list=[movie_title], timeframe=f'{start_date_str} {end_date_str}')\n",
    "\n",
    "    # fetch the interest over time\n",
    "    trends = pytrends.interest_over_time()\n",
    "\n",
    "    # return the mean (we can change mean to other statistics)\n",
    "    return trends[movie_title].mean()"
   ]
  },
  {
   "cell_type": "code",
   "execution_count": 12,
   "metadata": {},
   "outputs": [
    {
     "name": "stderr",
     "output_type": "stream",
     "text": [
      "<ipython-input-12-05e7e9ff2ac9>:12: SettingWithCopyWarning: \n",
      "A value is trying to be set on a copy of a slice from a DataFrame.\n",
      "Try using .loc[row_indexer,col_indexer] = value instead\n",
      "\n",
      "See the caveats in the documentation: https://pandas.pydata.org/pandas-docs/stable/user_guide/indexing.html#returning-a-view-versus-a-copy\n",
      "  data_sample.at[index, 'search_index'] = trend_index\n"
     ]
    },
    {
     "name": "stdout",
     "output_type": "stream",
     "text": [
      "error: The request failed: Google returned a response with code 500\n"
     ]
    },
    {
     "name": "stderr",
     "output_type": "stream",
     "text": [
      "<ipython-input-12-05e7e9ff2ac9>:18: SettingWithCopyWarning: \n",
      "A value is trying to be set on a copy of a slice from a DataFrame.\n",
      "Try using .loc[row_indexer,col_indexer] = value instead\n",
      "\n",
      "See the caveats in the documentation: https://pandas.pydata.org/pandas-docs/stable/user_guide/indexing.html#returning-a-view-versus-a-copy\n",
      "  data_sample.at[index, 'error_message'] = e\n"
     ]
    },
    {
     "name": "stdout",
     "output_type": "stream",
     "text": [
      "error: The request failed: Google returned a response with code 500\n",
      "error: The request failed: Google returned a response with code 500\n",
      "error: HTTPSConnectionPool(host='trends.google.com', port=443): Max retries exceeded with url: /trends/api/explore?hl=en-US&tz=360&req=%7B%22comparisonItem%22%3A+%5B%7B%22keyword%22%3A+%22Meek%27s+Cutoff%22%2C+%22time%22%3A+%222010-04-08+2011-04-08%22%2C+%22geo%22%3A+%22%22%7D%5D%2C+%22category%22%3A+0%2C+%22property%22%3A+%22%22%7D (Caused by SSLError(SSLEOFError(8, 'EOF occurred in violation of protocol (_ssl.c:1123)')))\n",
      "error: The request failed: Google returned a response with code 500\n",
      "error: The request failed: Google returned a response with code 500\n",
      "error: The request failed: Google returned a response with code 500\n",
      "error: HTTPSConnectionPool(host='trends.google.com', port=443): Max retries exceeded with url: /trends/api/widgetdata/multiline?req=%7B%22time%22%3A+%222001-01-25+2002-01-25%22%2C+%22resolution%22%3A+%22WEEK%22%2C+%22locale%22%3A+%22en-US%22%2C+%22comparisonItem%22%3A+%5B%7B%22geo%22%3A+%7B%7D%2C+%22complexKeywordsRestriction%22%3A+%7B%22keyword%22%3A+%5B%7B%22type%22%3A+%22BROAD%22%2C+%22value%22%3A+%22Metropolis%22%7D%5D%7D%7D%5D%2C+%22requestOptions%22%3A+%7B%22property%22%3A+%22%22%2C+%22backend%22%3A+%22IZG%22%2C+%22category%22%3A+0%7D%2C+%22userConfig%22%3A+%7B%22userType%22%3A+%22USER_TYPE_SCRAPER%22%7D%7D&token=APP6_UEAAAAAZVjcPgPu0JUxz6-l3kTHtGIjtyB2Vs81&tz=360 (Caused by SSLError(SSLEOFError(8, 'EOF occurred in violation of protocol (_ssl.c:1123)')))\n",
      "error: The request failed: Google returned a response with code 500\n",
      "error: The request failed: Google returned a response with code 500\n",
      "error: The request failed: Google returned a response with code 500\n",
      "error: The request failed: Google returned a response with code 500\n",
      "error: The request failed: Google returned a response with code 500\n",
      "error: The request failed: Google returned a response with code 429\n",
      "error: The request failed: Google returned a response with code 500\n",
      "error: The request failed: Google returned a response with code 429\n",
      "error: The request failed: Google returned a response with code 500\n",
      "error: The request failed: Google returned a response with code 500\n",
      "error: HTTPSConnectionPool(host='trends.google.com', port=443): Max retries exceeded with url: /trends/api/widgetdata/multiline?req=%7B%22time%22%3A+%222001-06-28+2002-06-28%22%2C+%22resolution%22%3A+%22WEEK%22%2C+%22locale%22%3A+%22en-US%22%2C+%22comparisonItem%22%3A+%5B%7B%22geo%22%3A+%7B%7D%2C+%22complexKeywordsRestriction%22%3A+%7B%22keyword%22%3A+%5B%7B%22type%22%3A+%22BROAD%22%2C+%22value%22%3A+%22Mr.+Deeds%22%7D%5D%7D%7D%5D%2C+%22requestOptions%22%3A+%7B%22property%22%3A+%22%22%2C+%22backend%22%3A+%22IZG%22%2C+%22category%22%3A+0%7D%2C+%22userConfig%22%3A+%7B%22userType%22%3A+%22USER_TYPE_SCRAPER%22%7D%7D&token=APP6_UEAAAAAZVjfQ5Mg7uBKcTVHkVpV1XRTJ_C_X9dC&tz=360 (Caused by ProxyError('Cannot connect to proxy.', RemoteDisconnected('Remote end closed connection without response')))\n",
      "error: The request failed: Google returned a response with code 500\n",
      "error: The request failed: Google returned a response with code 429\n",
      "error: The request failed: Google returned a response with code 429\n"
     ]
    }
   ],
   "source": [
    "data_sample = data[1000:1100]\n",
    "\n",
    "for index, row in data_sample.iterrows():\n",
    "    try: \n",
    "        # convert to datetime object\n",
    "        release_date = pd.to_datetime(row['release_date'])\n",
    "\n",
    "        # retrieve the data\n",
    "        trend_index = fetch_trend(row['primaryTitle'], release_date)\n",
    "\n",
    "        # store the data\n",
    "        data_sample.at[index, 'search_index'] = trend_index\n",
    "\n",
    "        # to avoid the error that reach the maximum retrieve matrix\n",
    "        time.sleep(15)\n",
    "    except Exception as e:\n",
    "        print(f'error: {e}')\n",
    "        data_sample.at[index, 'error_message'] = e\n",
    "        time.sleep(15)\n",
    "        continue"
   ]
  },
  {
   "cell_type": "code",
   "execution_count": 13,
   "metadata": {},
   "outputs": [],
   "source": [
    "output_path = '/Users/ryan/Documents/GitHub/MGT4187-Project/searching_index/results'\n",
    "os.chdir(output_path)\n",
    "data_sample.to_csv('results_index1000_1100.csv')"
   ]
  }
 ],
 "metadata": {
  "kernelspec": {
   "display_name": "venv",
   "language": "python",
   "name": "python3"
  },
  "language_info": {
   "codemirror_mode": {
    "name": "ipython",
    "version": 3
   },
   "file_extension": ".py",
   "mimetype": "text/x-python",
   "name": "python",
   "nbconvert_exporter": "python",
   "pygments_lexer": "ipython3",
   "version": "3.9.2"
  }
 },
 "nbformat": 4,
 "nbformat_minor": 2
}
