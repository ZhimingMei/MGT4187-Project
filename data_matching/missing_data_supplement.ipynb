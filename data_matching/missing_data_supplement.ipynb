{
 "cells": [
  {
   "cell_type": "code",
   "execution_count": 1,
   "metadata": {},
   "outputs": [],
   "source": [
    "import pandas as pd\n",
    "import os"
   ]
  },
  {
   "cell_type": "code",
   "execution_count": 5,
   "metadata": {},
   "outputs": [
    {
     "data": {
      "text/plain": [
       "Index(['imdb_id', 'title', 'plot', 'type', 'rated', 'year', 'released_at',\n",
       "       'added_at', 'runtime', 'genre', 'director', 'writer', 'actors',\n",
       "       'language', 'country', 'awards', 'metascore', 'imdb_rating',\n",
       "       'imdb_votes', 'production_budget', 'domestic_gross', 'worldwide_gross',\n",
       "       'distributor', 'mpaa_rating', 'matched_profit_indicator', 'Network',\n",
       "       'Critic Score', 'Audience Score', 'tv_link', 'nob_audience', 'Rating',\n",
       "       'Review_audience', 'nob_critics', 'Sentiment', 'Review_critics',\n",
       "       'matched_audience_indicator', 'matched_critics_indicator',\n",
       "       'matched_all_review_indicator'],\n",
       "      dtype='object')"
      ]
     },
     "execution_count": 5,
     "metadata": {},
     "output_type": "execute_result"
    }
   ],
   "source": [
    "data_path = '/Users/ryan/Documents/GitHub/MGT4187-Project/data'\n",
    "os.chdir(data_path)\n",
    "\n",
    "data = pd.read_csv('matched_disney_dataset.csv', index_col=0)\n",
    "data.columns"
   ]
  },
  {
   "cell_type": "code",
   "execution_count": 6,
   "metadata": {},
   "outputs": [
    {
     "name": "stdout",
     "output_type": "stream",
     "text": [
      "total review data: 19.0\n"
     ]
    }
   ],
   "source": [
    "print('total review data:', data['matched_all_review_indicator'].sum())"
   ]
  }
 ],
 "metadata": {
  "kernelspec": {
   "display_name": "Python 3",
   "language": "python",
   "name": "python3"
  },
  "language_info": {
   "codemirror_mode": {
    "name": "ipython",
    "version": 3
   },
   "file_extension": ".py",
   "mimetype": "text/x-python",
   "name": "python",
   "nbconvert_exporter": "python",
   "pygments_lexer": "ipython3",
   "version": "3.9.2"
  }
 },
 "nbformat": 4,
 "nbformat_minor": 2
}
