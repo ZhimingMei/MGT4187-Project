{
 "cells": [
  {
   "cell_type": "code",
   "execution_count": 20,
   "metadata": {},
   "outputs": [],
   "source": [
    "import pandas as pd\n",
    "import os"
   ]
  },
  {
   "cell_type": "code",
   "execution_count": 21,
   "metadata": {},
   "outputs": [
    {
     "data": {
      "text/plain": [
       "Index(['imdb_id', 'title', 'plot', 'type', 'rated', 'year', 'released_at',\n",
       "       'added_at', 'runtime', 'genre', 'director', 'writer', 'actors',\n",
       "       'language', 'country', 'awards', 'metascore', 'imdb_rating',\n",
       "       'imdb_votes', 'production_budget', 'domestic_gross', 'worldwide_gross',\n",
       "       'distributor', 'mpaa_rating', 'matched_profit_indicator', 'Network',\n",
       "       'Critic Score', 'Audience Score', 'tv_link', 'nob_audience', 'Rating',\n",
       "       'Review_audience', 'nob_critics', 'Sentiment', 'Review_critics',\n",
       "       'matched_audience_indicator', 'matched_critics_indicator',\n",
       "       'matched_all_review_indicator'],\n",
       "      dtype='object')"
      ]
     },
     "execution_count": 21,
     "metadata": {},
     "output_type": "execute_result"
    }
   ],
   "source": [
    "data_path = '/Users/ryan/Documents/GitHub/MGT4187-Project/data'\n",
    "os.chdir(data_path)\n",
    "\n",
    "data = pd.read_csv('matched_disney_dataset.csv', index_col=0)\n",
    "data.columns"
   ]
  },
  {
   "cell_type": "code",
   "execution_count": 22,
   "metadata": {},
   "outputs": [
    {
     "name": "stdout",
     "output_type": "stream",
     "text": [
      "total review data: 19.0\n"
     ]
    }
   ],
   "source": [
    "print('total review data:', data['matched_all_review_indicator'].sum())"
   ]
  },
  {
   "cell_type": "code",
   "execution_count": 23,
   "metadata": {},
   "outputs": [],
   "source": [
    "data = data.drop_duplicates(subset='imdb_id')\n",
    "data = data.dropna(subset='imdb_rating')"
   ]
  },
  {
   "cell_type": "code",
   "execution_count": 24,
   "metadata": {},
   "outputs": [],
   "source": [
    "vlist = ['imdb_id', 'title', 'plot', 'type', 'rated', 'year', 'released_at',\n",
    "       'added_at', 'runtime', 'genre', 'director', 'writer', 'actors',\n",
    "       'language', 'country', 'awards', 'metascore', 'imdb_rating',\n",
    "       'imdb_votes']\n",
    "data = data[vlist]"
   ]
  },
  {
   "cell_type": "markdown",
   "metadata": {},
   "source": [
    "## data supplement"
   ]
  },
  {
   "cell_type": "code",
   "execution_count": 25,
   "metadata": {},
   "outputs": [],
   "source": [
    "import re\n",
    "from cleanco import basename"
   ]
  },
  {
   "cell_type": "markdown",
   "metadata": {},
   "source": [
    "### supplement from rank 1-500 movies"
   ]
  },
  {
   "cell_type": "code",
   "execution_count": 26,
   "metadata": {},
   "outputs": [],
   "source": [
    "supplement_data_path = '/Users/ryan/Documents/GitHub/MGT4187-Project/data/supplement_profit_and_production'\n",
    "os.chdir(supplement_data_path)\n",
    "\n",
    "supplement1 = pd.read_csv('supplement_production_profit_1_500.csv')"
   ]
  },
  {
   "cell_type": "code",
   "execution_count": 27,
   "metadata": {},
   "outputs": [],
   "source": [
    "## clean name function\n",
    "def std_name(v):\n",
    "    try:\n",
    "        v = basename(basename(\n",
    "            v.lower()))  # change string to lower case, then get the base name applying basename to get rid of common name suffixes\n",
    "        v = re.sub(' +', ' ', re.sub('^\\W*the', ' ', v)).strip()  # get rid of \"the\" at the begining of names\n",
    "        v = re.sub(r'[^a-zA-Z\\s]', '', v)  # delete the non-character symbols\n",
    "        return v\n",
    "    except:\n",
    "        return v"
   ]
  },
  {
   "cell_type": "code",
   "execution_count": 28,
   "metadata": {},
   "outputs": [],
   "source": [
    "data['title_std'] = data['title'].apply(std_name)\n",
    "supplement1['title_std'] = supplement1['Movie'].apply(std_name)\n",
    "\n",
    "\n",
    "combined_new = pd.merge(data, supplement1[['title_std', 'Movie', 'Production Budget',\n",
    "       'Domestic Gross', 'Worldwide Gross']], on='title_std', how='left', indicator='profit_indicator')"
   ]
  },
  {
   "cell_type": "code",
   "execution_count": 29,
   "metadata": {},
   "outputs": [
    {
     "data": {
      "text/plain": [
       "profit_indicator\n",
       "left_only     792\n",
       "both           96\n",
       "right_only      0\n",
       "Name: count, dtype: int64"
      ]
     },
     "execution_count": 29,
     "metadata": {},
     "output_type": "execute_result"
    }
   ],
   "source": [
    "combined_new['profit_indicator'].value_counts()"
   ]
  },
  {
   "cell_type": "markdown",
   "metadata": {},
   "source": [
    "### Supplement from Kaggle dataset\n",
    "Source: https://www.kaggle.com/datasets/sujaykapadnis/horror-movies-profits-dataset"
   ]
  },
  {
   "cell_type": "code",
   "execution_count": 30,
   "metadata": {},
   "outputs": [],
   "source": [
    "os.chdir(data_path)\n",
    "\n",
    "supplement2 = pd.read_csv('movie_profit.csv')"
   ]
  },
  {
   "cell_type": "code",
   "execution_count": 34,
   "metadata": {},
   "outputs": [],
   "source": [
    "data2 = combined_new.loc[combined_new['profit_indicator']=='left_only']\n",
    "data2 = data2[vlist]\n",
    "data2['title_std'] = data2['title'].apply(std_name)\n",
    "supplement2['title_std'] = supplement2['movie'].apply(std_name)\n",
    "\n",
    "\n",
    "combined_new2 = pd.merge(data2, supplement2[['title_std', 'movie', 'production_budget',\n",
    "       'domestic_gross', 'worldwide_gross']], on='title_std', how='left', indicator='profit_indicator')"
   ]
  },
  {
   "cell_type": "code",
   "execution_count": 35,
   "metadata": {},
   "outputs": [
    {
     "data": {
      "text/plain": [
       "profit_indicator\n",
       "left_only     699\n",
       "both           94\n",
       "right_only      0\n",
       "Name: count, dtype: int64"
      ]
     },
     "execution_count": 35,
     "metadata": {},
     "output_type": "execute_result"
    }
   ],
   "source": [
    "combined_new2['profit_indicator'].value_counts()"
   ]
  }
 ],
 "metadata": {
  "kernelspec": {
   "display_name": "Python 3",
   "language": "python",
   "name": "python3"
  },
  "language_info": {
   "codemirror_mode": {
    "name": "ipython",
    "version": 3
   },
   "file_extension": ".py",
   "mimetype": "text/x-python",
   "name": "python",
   "nbconvert_exporter": "python",
   "pygments_lexer": "ipython3",
   "version": "3.9.2"
  }
 },
 "nbformat": 4,
 "nbformat_minor": 2
}
